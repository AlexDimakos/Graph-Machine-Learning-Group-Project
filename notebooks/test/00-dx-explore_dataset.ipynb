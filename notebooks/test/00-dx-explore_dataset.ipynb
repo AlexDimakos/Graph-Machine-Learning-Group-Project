{
 "cells": [
  {
   "cell_type": "code",
   "execution_count": 1,
   "id": "020868ca",
   "metadata": {},
   "outputs": [
    {
     "name": "stderr",
     "output_type": "stream",
     "text": [
      "/home/frostyweasel/code/tu_delft/graph_ml/.pixi/envs/default/lib/python3.13/site-packages/tqdm/auto.py:21: TqdmWarning: IProgress not found. Please update jupyter and ipywidgets. See https://ipywidgets.readthedocs.io/en/stable/user_install.html\n",
      "  from .autonotebook import tqdm as notebook_tqdm\n"
     ]
    }
   ],
   "source": [
    "import sales_forecasting.config as config\n",
    "import sales_forecasting.models.train as train_module"
   ]
  },
  {
   "cell_type": "code",
   "execution_count": 2,
   "id": "e29ade52",
   "metadata": {},
   "outputs": [],
   "source": [
    "import numpy as np\n",
    "\n",
    "\n",
    "X, y = (\n",
    "    np.load(config.PROCESSED_DATA_DIR / \"X.npy\"),\n",
    "    np.load(config.PROCESSED_DATA_DIR / \"y.npy\"),\n",
    ")"
   ]
  },
  {
   "cell_type": "code",
   "execution_count": null,
   "id": "6ecfbfba",
   "metadata": {},
   "outputs": [
    {
     "name": "stdout",
     "output_type": "stream",
     "text": [
      "Interpreting X as (timesteps, num_nodes, num_features): X shape: (220, 41, 4)  -> timesteps=220, num_nodes=41, num_features=4\n",
      "y shape: (220, 41)\n",
      "y aligns with X (per-timestep per-node targets).\n",
      "Memory: X = 0.28 MB, y = 0.07 MB\n",
      "Zero fraction: X = 46.716%, y = 46.220%\n",
      "Contains NaN: X=False, y=False\n",
      "Contains inf: X=False, y=False\n",
      "Per-feature (min, mean, max):\n",
      "  feature_0: 0.000, 849.287, 18859.000\n",
      "  feature_1: 0.000, 848.776, 19617.000\n",
      "  feature_2: 0.000, 848.499, 18517.000\n",
      "  feature_3: 0.000, 859.555, 29251.000\n",
      "Per-node mean (first 10 nodes): [ 387.09137841 6794.56170455 1007.55857739 4775.58838444 7491.37565298\n",
      " 2828.54197132  220.49869888   88.64904003  302.24630682  554.20202273]\n",
      "Per-node mean (overall): min=0.001, mean=851.529, max=7491.376\n"
     ]
    }
   ],
   "source": [
    "# Quick summary of dataset sizes and basic stats (uses existing X, y)\n",
    "timesteps, num_nodes, num_features = X.shape\n",
    "print(\n",
    "    f\"Interpreting X as (timesteps, num_nodes, num_features): X shape: {X.shape}  -> timesteps={timesteps}, num_nodes={num_nodes}, num_features={num_features}\"\n",
    ")\n",
    "print(f\"y shape: {y.shape}\")\n",
    "\n",
    "# alignment check: expect y to be (timesteps, num_nodes)\n",
    "if y.shape == (timesteps, num_nodes):\n",
    "    print(\"y aligns with X (per-timestep per-node targets).\")\n",
    "else:\n",
    "    print(\"y does NOT align with X. Expected shape (timesteps, num_nodes).\")\n",
    "\n",
    "# memory footprint\n",
    "print(f\"Memory: X = {X.nbytes / 1024**2:.2f} MB, y = {y.nbytes / 1024**2:.2f} MB\")\n",
    "\n",
    "# sparsity / missing values\n",
    "x_zero_frac = (X == 0).sum() / X.size\n",
    "y_zero_frac = (y == 0).sum() / y.size\n",
    "print(f\"Zero fraction: X = {x_zero_frac:.3%}, y = {y_zero_frac:.3%}\")\n",
    "print(f\"Contains NaN: X={np.isnan(X).any()}, y={np.isnan(y).any()}\")\n",
    "print(f\"Contains inf: X={np.isinf(X).any()}, y={np.isinf(y).any()}\")\n",
    "\n",
    "# per-feature summary across all timesteps & nodes\n",
    "feat_min = X.min(axis=(0, 1))\n",
    "feat_mean = X.mean(axis=(0, 1))\n",
    "feat_max = X.max(axis=(0, 1))\n",
    "print(\"Per-feature (min, mean, max):\")\n",
    "for i, (mn, mu, mx) in enumerate(zip(feat_min, feat_mean, feat_max)):\n",
    "    print(f\"  feature_{i}: {mn:.3f}, {mu:.3f}, {mx:.3f}\")\n",
    "\n",
    "# example per-node statistics (average over time and features)\n",
    "node_means = X.mean(axis=(0, 2))  # shape == (num_nodes,)\n",
    "print(f\"Per-node mean (first 10 nodes): {node_means[:10]}\")\n",
    "print(\n",
    "    f\"Per-node mean (overall): min={node_means.min():.3f}, mean={node_means.mean():.3f}, max={node_means.max():.3f}\"\n",
    ")"
   ]
  },
  {
   "cell_type": "code",
   "execution_count": null,
   "id": "ecba7e51",
   "metadata": {},
   "outputs": [
    {
     "name": "stdout",
     "output_type": "stream",
     "text": [
      "timesteps = 220, window = 5\n",
      "Usable target timesteps = 215\n",
      "Samples (one sample = full graph per timestep): 215\n",
      "Samples (one sample = per-node per-timestep): 8815\n"
     ]
    }
   ],
   "source": [
    "# assuming timesteps and num_nodes are already defined in the notebook\n",
    "window = 5\n",
    "\n",
    "usable_timesteps = max(\n",
    "    0, timesteps - window\n",
    ")  # number of target timesteps that have 5 previous steps\n",
    "samples_full_graph = usable_timesteps  # one sample per timestep (all nodes together)\n",
    "samples_per_node = usable_timesteps * num_nodes  # one sample per (timestep, node)\n",
    "\n",
    "print(f\"timesteps = {timesteps}, window = {window}\")\n",
    "print(f\"Usable target timesteps = {usable_timesteps}\")\n",
    "print(f\"Samples (one sample = full graph per timestep): {samples_full_graph}\")\n",
    "print(f\"Samples (one sample = per-node per-timestep): {samples_per_node}\")"
   ]
  },
  {
   "cell_type": "code",
   "execution_count": null,
   "id": "66027b47",
   "metadata": {},
   "outputs": [],
   "source": []
  }
 ],
 "metadata": {
  "kernelspec": {
   "display_name": "default",
   "language": "python",
   "name": "python3"
  },
  "language_info": {
   "codemirror_mode": {
    "name": "ipython",
    "version": 3
   },
   "file_extension": ".py",
   "mimetype": "text/x-python",
   "name": "python",
   "nbconvert_exporter": "python",
   "pygments_lexer": "ipython3",
   "version": "3.13.9"
  }
 },
 "nbformat": 4,
 "nbformat_minor": 5
}
