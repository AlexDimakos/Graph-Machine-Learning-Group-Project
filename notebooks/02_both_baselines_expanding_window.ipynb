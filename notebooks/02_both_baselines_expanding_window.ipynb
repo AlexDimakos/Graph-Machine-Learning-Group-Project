{
 "cells": [
  {
   "cell_type": "code",
   "execution_count": 86,
   "id": "3e347b9e",
   "metadata": {},
   "outputs": [],
   "source": [
    "# import kagglehub\n",
    "\n",
    "# # Download latest version\n",
    "# path = kagglehub.dataset_download(\"azminetoushikwasi/supplygraph-supply-chain-planning-using-gnns\")\n",
    "\n",
    "# print(\"Path to dataset files:\", path)"
   ]
  },
  {
   "cell_type": "code",
   "execution_count": 87,
   "id": "3f850911",
   "metadata": {},
   "outputs": [],
   "source": [
    "import pandas as pd\n",
    "path = \"./supplygraph-supply-chain-planning-using-gnns/versions/2/Raw Dataset/\"\n",
    "\n",
    "# Nodes\n",
    "nodes = pd.read_csv(path + \"Nodes/Nodes.csv\")   \n",
    "edges = pd.read_csv(path + \"Edges/Edges (Plant).csv\")\n",
    "\n",
    "delivery_to_distributor = pd.read_csv(path + \"Temporal Data/Unit/Delivery To distributor.csv\")\n",
    "factory_issue = pd.read_csv(path + \"Temporal Data/Unit/factory issue.csv\")\n",
    "production = pd.read_csv(path + \"Temporal Data/Unit/Production .csv\")\n",
    "sales_order = pd.read_csv(path + \"Temporal Data/Unit/Sales order.csv\")"
   ]
  },
  {
   "cell_type": "code",
   "execution_count": 88,
   "id": "55d2cc16",
   "metadata": {},
   "outputs": [
    {
     "name": "stdout",
     "output_type": "stream",
     "text": [
      "X shape: (220, 41, 4)\n",
      "y shape: (220, 41)\n"
     ]
    }
   ],
   "source": [
    "import pandas as pd\n",
    "import numpy as np\n",
    "from torch_geometric_temporal.signal import StaticGraphTemporalSignal\n",
    "\n",
    "path = \"./supplygraph-supply-chain-planning-using-gnns/versions/2/Raw Dataset/Temporal Data/Unit/\"\n",
    "\n",
    "production = pd.read_csv(path + \"Production .csv\")\n",
    "factory_issue = pd.read_csv(path + \"factory issue.csv\")\n",
    "delivery = pd.read_csv(path + \"Delivery To distributor.csv\")\n",
    "sales_order = pd.read_csv(path + \"Sales order.csv\")\n",
    "\n",
    "products = [col for col in production.columns if col != \"Date\"]\n",
    "product_to_id = {prod: i for i, prod in enumerate(products)}\n",
    "\n",
    "def transform_temporal(df, mapping):\n",
    "    df_no_date = df.drop(columns=[\"Date\"])\n",
    "    return df_no_date.rename(columns=mapping)\n",
    "\n",
    "X_prod = transform_temporal(production, product_to_id)\n",
    "X_issue = transform_temporal(factory_issue, product_to_id)\n",
    "X_delivery = transform_temporal(delivery, product_to_id)\n",
    "X_sales = transform_temporal(sales_order, product_to_id)  \n",
    "\n",
    "X_prod_np = X_prod.to_numpy()\n",
    "X_issue_np = X_issue.to_numpy()\n",
    "X_delivery_np = X_delivery.to_numpy()\n",
    "X_sales_np = X_sales.to_numpy()\n",
    "\n",
    "# shape: [T, N, F] = [time_steps, num_nodes, num_features]\n",
    "X = np.stack([X_prod_np, X_issue_np, X_delivery_np, X_sales_np], axis=-1)\n",
    "\n",
    "y = X_sales_np[1:]       \n",
    "X = X[:-1]\n",
    "\n",
    "print(\"X shape:\", X.shape)  # (T-1, N, 4)\n",
    "print(\"y shape:\", y.shape)  # (T-1, N)\n"
   ]
  },
  {
   "cell_type": "code",
   "execution_count": 89,
   "id": "f57cdca4",
   "metadata": {},
   "outputs": [],
   "source": [
    "# X = X[:150]\n",
    "# X.shape\n",
    "# y = y[:150]"
   ]
  },
  {
   "cell_type": "code",
   "execution_count": 90,
   "id": "13176b89",
   "metadata": {},
   "outputs": [],
   "source": [
    "train = int(0.8 * X.shape[0])\n",
    "\n",
    "X_train, X_test = X[:train], X[train:]\n",
    "y_train, y_test = y[:train], y[train:]"
   ]
  },
  {
   "cell_type": "code",
   "execution_count": 91,
   "id": "1bfe32fb",
   "metadata": {},
   "outputs": [],
   "source": [
    "from sklearn.preprocessing import StandardScaler\n",
    "import numpy as np\n",
    "\n",
    "T, N, F = X_train.shape\n",
    "\n",
    "# Prepare scaled containers\n",
    "X_train_scaled = np.zeros_like(X_train)\n",
    "y_train_scaled = np.zeros_like(y_train)\n",
    "X_test_scaled = np.zeros_like(X_test)\n",
    "y_test_scaled = np.zeros_like(y_test)\n",
    "\n",
    "scaler_X_per_product = []\n",
    "scaler_y_per_product = []\n",
    "\n",
    "for node_idx in range(N):\n",
    "    # Fit a scaler for features of this product\n",
    "    scaler_X = StandardScaler()\n",
    "    scaler_y = StandardScaler()\n",
    "    \n",
    "    X_node = X_train[:, node_idx, :]  # (T, F)\n",
    "    y_node = y_train[:, node_idx].reshape(-1, 1)\n",
    "    \n",
    "    X_train_scaled[:, node_idx, :] = scaler_X.fit_transform(X_node)\n",
    "    y_train_scaled[:, node_idx] = scaler_y.fit_transform(y_node).ravel()\n",
    "    \n",
    "    # Scale test data using same scaler\n",
    "    X_test_scaled[:, node_idx, :] = scaler_X.transform(X_test[:, node_idx, :])\n",
    "    y_test_scaled[:, node_idx] = scaler_y.transform(y_test[:, node_idx].reshape(-1, 1)).ravel()\n",
    "    \n",
    "    scaler_X_per_product.append(scaler_X)\n",
    "    scaler_y_per_product.append(scaler_y)\n"
   ]
  },
  {
   "cell_type": "code",
   "execution_count": 92,
   "id": "f2671768",
   "metadata": {},
   "outputs": [],
   "source": [
    "edges = pd.read_csv(\"./supplygraph-supply-chain-planning-using-gnns/versions/2/Raw Dataset/Edges/Edges (Product Group).csv\")\n",
    "\n",
    "edges['node1'] = edges['node1'].astype(str)\n",
    "edges['node2'] = edges['node2'].astype(str)\n",
    "\n",
    "edges['node1'] = edges['node1'].map(product_to_id)\n",
    "edges['node2'] = edges['node2'].map(product_to_id)\n",
    "\n",
    "edge_index = edges[['node1', 'node2']].to_numpy().T.astype(np.int64)\n",
    "\n",
    "num_nodes = len(product_to_id)\n",
    "\n",
    "train_dataset = StaticGraphTemporalSignal(\n",
    "    edge_index=edge_index,\n",
    "    edge_weight=np.ones(edge_index.shape[1]),\n",
    "    features=X_train_scaled,\n",
    "    targets=y_train_scaled\n",
    ")\n",
    "\n",
    "test_dataset = StaticGraphTemporalSignal(\n",
    "    edge_index=edge_index,\n",
    "    edge_weight=np.ones(edge_index.shape[1]),\n",
    "    features=X_test_scaled,\n",
    "    targets=y_test_scaled\n",
    ")\n"
   ]
  },
  {
   "cell_type": "code",
   "execution_count": 93,
   "id": "0397eefd",
   "metadata": {},
   "outputs": [],
   "source": [
    "import torch\n",
    "import torch.nn.functional as F\n",
    "from torch_geometric_temporal.nn.recurrent import GCLSTM\n",
    "\n",
    "class RecurrentGCN(torch.nn.Module):\n",
    "    def __init__(self, node_features, hidden_size=16, num_layers=1):\n",
    "        super(RecurrentGCN, self).__init__()\n",
    "        self.recurrent = GCLSTM(node_features, hidden_size, 1)\n",
    "        self.linear = torch.nn.Linear(hidden_size, 1)\n",
    "\n",
    "    def forward(self, x, edge_index, edge_weight, h=None, c=None):\n",
    "        # Pass previous hidden states (if any)\n",
    "        h, c = self.recurrent(x, edge_index, edge_weight, h, c)\n",
    "        out = F.relu(h)\n",
    "        out = self.linear(out)\n",
    "        return out.squeeze(-1), (h, c)"
   ]
  },
  {
   "cell_type": "code",
   "execution_count": 96,
   "id": "97c651b5",
   "metadata": {},
   "outputs": [],
   "source": [
    "model = RecurrentGCN(node_features=4, hidden_size=16, num_layers=1)\n",
    "optimizer = torch.optim.Adam(model.parameters(), lr=0.01, weight_decay=5e-4)"
   ]
  },
  {
   "cell_type": "code",
   "execution_count": 97,
   "id": "4047ebc6",
   "metadata": {},
   "outputs": [
    {
     "name": "stderr",
     "output_type": "stream",
     "text": [
      " 10%|█         | 10/100 [00:18<02:25,  1.62s/it]"
     ]
    },
    {
     "name": "stdout",
     "output_type": "stream",
     "text": [
      "Epoch 10/100 | Train MSE: 0.9532 | Test MSE: 2.3704\n"
     ]
    },
    {
     "name": "stderr",
     "output_type": "stream",
     "text": [
      " 20%|██        | 20/100 [00:37<02:28,  1.85s/it]"
     ]
    },
    {
     "name": "stdout",
     "output_type": "stream",
     "text": [
      "Epoch 20/100 | Train MSE: 0.9431 | Test MSE: 2.3630\n"
     ]
    },
    {
     "name": "stderr",
     "output_type": "stream",
     "text": [
      " 30%|███       | 30/100 [00:55<02:03,  1.77s/it]"
     ]
    },
    {
     "name": "stdout",
     "output_type": "stream",
     "text": [
      "Epoch 30/100 | Train MSE: 0.9412 | Test MSE: 2.3584\n"
     ]
    },
    {
     "name": "stderr",
     "output_type": "stream",
     "text": [
      " 40%|████      | 40/100 [01:15<02:02,  2.04s/it]"
     ]
    },
    {
     "name": "stdout",
     "output_type": "stream",
     "text": [
      "Epoch 40/100 | Train MSE: 0.9350 | Test MSE: 2.3563\n"
     ]
    },
    {
     "name": "stderr",
     "output_type": "stream",
     "text": [
      " 50%|█████     | 50/100 [01:35<01:45,  2.11s/it]"
     ]
    },
    {
     "name": "stdout",
     "output_type": "stream",
     "text": [
      "Epoch 50/100 | Train MSE: 0.9307 | Test MSE: 2.3563\n"
     ]
    },
    {
     "name": "stderr",
     "output_type": "stream",
     "text": [
      " 60%|██████    | 60/100 [01:54<01:11,  1.78s/it]"
     ]
    },
    {
     "name": "stdout",
     "output_type": "stream",
     "text": [
      "Epoch 60/100 | Train MSE: 0.9243 | Test MSE: 2.3540\n"
     ]
    },
    {
     "name": "stderr",
     "output_type": "stream",
     "text": [
      " 70%|███████   | 70/100 [02:13<01:05,  2.19s/it]"
     ]
    },
    {
     "name": "stdout",
     "output_type": "stream",
     "text": [
      "Epoch 70/100 | Train MSE: 0.9189 | Test MSE: 2.3478\n"
     ]
    },
    {
     "name": "stderr",
     "output_type": "stream",
     "text": [
      " 80%|████████  | 80/100 [02:41<00:51,  2.56s/it]"
     ]
    },
    {
     "name": "stdout",
     "output_type": "stream",
     "text": [
      "Epoch 80/100 | Train MSE: 0.8921 | Test MSE: 2.3341\n"
     ]
    },
    {
     "name": "stderr",
     "output_type": "stream",
     "text": [
      " 90%|█████████ | 90/100 [03:02<00:18,  1.86s/it]"
     ]
    },
    {
     "name": "stdout",
     "output_type": "stream",
     "text": [
      "Epoch 90/100 | Train MSE: 0.8838 | Test MSE: 2.3428\n"
     ]
    },
    {
     "name": "stderr",
     "output_type": "stream",
     "text": [
      "100%|██████████| 100/100 [03:23<00:00,  2.04s/it]"
     ]
    },
    {
     "name": "stdout",
     "output_type": "stream",
     "text": [
      "Epoch 100/100 | Train MSE: 0.8851 | Test MSE: 2.3478\n"
     ]
    },
    {
     "name": "stderr",
     "output_type": "stream",
     "text": [
      "\n"
     ]
    }
   ],
   "source": [
    "from tqdm import tqdm\n",
    "\n",
    "def calculate_mse(model, dataset):\n",
    "    model.eval()\n",
    "    total_loss = 0.0\n",
    "    h, c = None, None\n",
    "    with torch.no_grad():\n",
    "        for time, snapshot in enumerate(dataset):\n",
    "            y_hat, (h, c) = model(snapshot.x, snapshot.edge_index, snapshot.edge_attr, h, c)\n",
    "            total_loss += torch.mean((y_hat - snapshot.y) ** 2).item()\n",
    "    return total_loss / (time + 1)\n",
    "\n",
    "\n",
    "gclstm_train_mse = []\n",
    "gclstm_test_mse = []\n",
    "\n",
    "n_epoch = 100\n",
    "\n",
    "for epoch in tqdm(range(n_epoch)):\n",
    "    model.train()\n",
    "    total_loss = 0\n",
    "    h, c = None, None\n",
    "    for time, snapshot in enumerate(train_dataset):\n",
    "        optimizer.zero_grad()\n",
    "        y_hat, (h, c) = model(snapshot.x, snapshot.edge_index, snapshot.edge_attr, h, c)\n",
    "        loss = torch.mean((y_hat - snapshot.y) ** 2)\n",
    "        loss.backward()\n",
    "        optimizer.step()\n",
    "        total_loss += loss.item()\n",
    "\n",
    "        h = h.detach()\n",
    "        c = c.detach()\n",
    "\n",
    "    \n",
    "    train_mse = calculate_mse(model, train_dataset)\n",
    "    test_mse = calculate_mse(model, test_dataset)\n",
    "    gclstm_train_mse.append(train_mse)\n",
    "    gclstm_test_mse.append(test_mse)\n",
    "\n",
    "    if (epoch + 1) % 10 == 0:\n",
    "        print(f\"Epoch {epoch+1}/{n_epoch} | Train MSE: {train_mse:.4f} | Test MSE: {test_mse:.4f}\")\n",
    "\n"
   ]
  },
  {
   "cell_type": "code",
   "execution_count": 98,
   "id": "ebb543d4",
   "metadata": {},
   "outputs": [],
   "source": [
    "# SIMPLE LSTM\n",
    "import torch.nn as nn\n",
    "\n",
    "class SimpleLSTM(nn.Module):\n",
    "    def __init__(self, input_size, hidden_size=16, num_layers=1):\n",
    "        super(SimpleLSTM, self).__init__()\n",
    "        self.hidden_size = hidden_size\n",
    "        self.num_layers = num_layers\n",
    "        self.lstm = nn.LSTM(input_size, hidden_size, num_layers, batch_first=True)\n",
    "        self.linear = nn.Linear(hidden_size, 1)\n",
    "    \n",
    "    def forward(self, x, h=None, c=None):\n",
    "        # x shape: (batch_size, seq_len, input_size)\n",
    "        out, (h_n, c_n) = self.lstm(x, (h, c)) if h is not None else self.lstm(x)\n",
    "        predictions = self.linear(out[:, -1, :])\n",
    "        return predictions.squeeze(-1), (h_n, c_n)"
   ]
  },
  {
   "cell_type": "code",
   "execution_count": 99,
   "id": "f182cc92",
   "metadata": {},
   "outputs": [],
   "source": [
    "lstm_model = SimpleLSTM(input_size=4, hidden_size=16, num_layers=1)\n",
    "lstm_optimizer = torch.optim.Adam(lstm_model.parameters(), lr=0.01, weight_decay=5e-4)\n",
    "criterion = nn.MSELoss()"
   ]
  },
  {
   "cell_type": "code",
   "execution_count": 100,
   "id": "9d448c35",
   "metadata": {},
   "outputs": [
    {
     "name": "stderr",
     "output_type": "stream",
     "text": [
      "  0%|          | 0/100 [00:00<?, ?it/s]"
     ]
    },
    {
     "name": "stderr",
     "output_type": "stream",
     "text": [
      " 10%|█         | 10/100 [00:06<00:53,  1.69it/s]"
     ]
    },
    {
     "name": "stdout",
     "output_type": "stream",
     "text": [
      "Epoch 10/100 | Train MSE: 0.9543 | Test MSE: 2.3660\n"
     ]
    },
    {
     "name": "stderr",
     "output_type": "stream",
     "text": [
      " 20%|██        | 20/100 [00:11<00:40,  1.98it/s]"
     ]
    },
    {
     "name": "stdout",
     "output_type": "stream",
     "text": [
      "Epoch 20/100 | Train MSE: 0.9485 | Test MSE: 2.3600\n"
     ]
    },
    {
     "name": "stderr",
     "output_type": "stream",
     "text": [
      " 30%|███       | 30/100 [00:16<00:37,  1.88it/s]"
     ]
    },
    {
     "name": "stdout",
     "output_type": "stream",
     "text": [
      "Epoch 30/100 | Train MSE: 0.9447 | Test MSE: 2.3617\n"
     ]
    },
    {
     "name": "stderr",
     "output_type": "stream",
     "text": [
      " 40%|████      | 40/100 [00:24<00:37,  1.60it/s]"
     ]
    },
    {
     "name": "stdout",
     "output_type": "stream",
     "text": [
      "Epoch 40/100 | Train MSE: 0.9416 | Test MSE: 2.3555\n"
     ]
    },
    {
     "name": "stderr",
     "output_type": "stream",
     "text": [
      " 50%|█████     | 50/100 [00:28<00:22,  2.20it/s]"
     ]
    },
    {
     "name": "stdout",
     "output_type": "stream",
     "text": [
      "Epoch 50/100 | Train MSE: 0.9272 | Test MSE: 2.3452\n"
     ]
    },
    {
     "name": "stderr",
     "output_type": "stream",
     "text": [
      " 60%|██████    | 60/100 [00:33<00:18,  2.18it/s]"
     ]
    },
    {
     "name": "stdout",
     "output_type": "stream",
     "text": [
      "Epoch 60/100 | Train MSE: 0.9110 | Test MSE: 2.3395\n"
     ]
    },
    {
     "name": "stderr",
     "output_type": "stream",
     "text": [
      " 70%|███████   | 70/100 [00:38<00:13,  2.28it/s]"
     ]
    },
    {
     "name": "stdout",
     "output_type": "stream",
     "text": [
      "Epoch 70/100 | Train MSE: 0.9063 | Test MSE: 2.3378\n"
     ]
    },
    {
     "name": "stderr",
     "output_type": "stream",
     "text": [
      " 80%|████████  | 80/100 [00:42<00:09,  2.18it/s]"
     ]
    },
    {
     "name": "stdout",
     "output_type": "stream",
     "text": [
      "Epoch 80/100 | Train MSE: 0.9003 | Test MSE: 2.3359\n"
     ]
    },
    {
     "name": "stderr",
     "output_type": "stream",
     "text": [
      " 90%|█████████ | 90/100 [00:47<00:05,  1.90it/s]"
     ]
    },
    {
     "name": "stdout",
     "output_type": "stream",
     "text": [
      "Epoch 90/100 | Train MSE: 0.8951 | Test MSE: 2.3335\n"
     ]
    },
    {
     "name": "stderr",
     "output_type": "stream",
     "text": [
      "100%|██████████| 100/100 [00:52<00:00,  1.91it/s]"
     ]
    },
    {
     "name": "stdout",
     "output_type": "stream",
     "text": [
      "Epoch 100/100 | Train MSE: 0.8946 | Test MSE: 2.3398\n"
     ]
    },
    {
     "name": "stderr",
     "output_type": "stream",
     "text": [
      "\n"
     ]
    }
   ],
   "source": [
    "from tqdm import tqdm\n",
    "\n",
    "def calculate_mse(model, dataset):\n",
    "    model.eval()\n",
    "    total_loss = 0.0\n",
    "    h, c = None, None\n",
    "    with torch.no_grad():\n",
    "        for time, snapshot in enumerate(dataset):\n",
    "            y_hat, (h, c) = model(snapshot.x.unsqueeze(1), h, c)\n",
    "            total_loss += torch.mean((y_hat - snapshot.y) ** 2).item()\n",
    "    return total_loss / (time + 1)\n",
    "\n",
    "\n",
    "lstm_train_losses = []\n",
    "lstm_test_losses = []\n",
    "\n",
    "n_epoch = 100\n",
    "\n",
    "for epoch in tqdm(range(n_epoch)):\n",
    "    lstm_model.train()\n",
    "    total_loss = 0\n",
    "    h, c = None, None\n",
    "    for time, snapshot in enumerate(train_dataset):\n",
    "\n",
    "        lstm_optimizer.zero_grad()\n",
    "        out, (h, c) = lstm_model(snapshot.x.unsqueeze(1), h, c)\n",
    "        loss = criterion(out, snapshot.y)\n",
    "        loss.backward()\n",
    "        lstm_optimizer.step()\n",
    "        total_loss += loss.item()\n",
    "\n",
    "        h = h.detach()\n",
    "        c = c.detach()\n",
    "\n",
    "\n",
    "    train_mse = calculate_mse(lstm_model, train_dataset)\n",
    "    test_mse = calculate_mse(lstm_model, test_dataset)\n",
    "    lstm_train_losses.append(train_mse)\n",
    "    lstm_test_losses.append(test_mse)\n",
    "\n",
    "    if (epoch + 1) % 10 == 0:\n",
    "        print(f\"Epoch {epoch+1}/{n_epoch} | Train MSE: {train_mse:.4f} | Test MSE: {test_mse:.4f}\")\n",
    "\n"
   ]
  },
  {
   "cell_type": "code",
   "execution_count": 101,
   "id": "3c07b29f",
   "metadata": {},
   "outputs": [
    {
     "data": {
      "image/png": "[encoded data removed]",
      "text/plain": [
       "<Figure size 800x500 with 1 Axes>"
      ]
     },
     "metadata": {},
     "output_type": "display_data"
    }
   ],
   "source": [
    "import matplotlib.pyplot as plt\n",
    "\n",
    "plt.figure(figsize=(8,5))\n",
    "plt.plot(range(1, n_epoch+1), lstm_train_losses, label=\"LSTM Train MSE\", color=\"orange\")\n",
    "plt.plot(range(1, n_epoch+1), gclstm_train_mse, label=\"GCLSTM Train MSE\", color=\"blue\")\n",
    "plt.xlabel(\"Epoch\")\n",
    "plt.ylabel(\"MSE\")\n",
    "plt.title(\"Sales Forecasting Comparison: LSTM vs GCLSTM\")\n",
    "plt.legend()\n",
    "plt.grid(True)\n",
    "plt.show()"
   ]
  },
  {
   "cell_type": "code",
   "execution_count": 102,
   "id": "af206287",
   "metadata": {},
   "outputs": [
    {
     "data": {
      "image/png": "[encoded data removed]",
      "text/plain": [
       "<Figure size 800x500 with 1 Axes>"
      ]
     },
     "metadata": {},
     "output_type": "display_data"
    }
   ],
   "source": [
    "import matplotlib.pyplot as plt\n",
    "\n",
    "plt.figure(figsize=(8,5))\n",
    "plt.plot(range(1, n_epoch+1), lstm_test_losses, label=\"LSTM Test MSE\", color=\"orange\")\n",
    "plt.plot(range(1, n_epoch+1), gclstm_test_mse, label=\"GCLSTM Test MSE\", color=\"blue\")\n",
    "plt.xlabel(\"Epoch\")\n",
    "plt.ylabel(\"MSE\")\n",
    "plt.title(\"Sales Forecasting Comparison: LSTM vs GCLSTM\")\n",
    "plt.legend()\n",
    "plt.grid(True)\n",
    "plt.show()"
   ]
  },
  {
   "cell_type": "code",
   "execution_count": null,
   "id": "44527b41",
   "metadata": {},
   "outputs": [],
   "source": []
  }
 ],
 "metadata": {
  "kernelspec": {
   "display_name": "Python 3",
   "language": "python",
   "name": "python3"
  },
  "language_info": {
   "codemirror_mode": {
    "name": "ipython",
    "version": 3
   },
   "file_extension": ".py",
   "mimetype": "text/x-python",
   "name": "python",
   "nbconvert_exporter": "python",
   "pygments_lexer": "ipython3",
   "version": "3.11.9"
  }
 },
 "nbformat": 4,
 "nbformat_minor": 5
}
