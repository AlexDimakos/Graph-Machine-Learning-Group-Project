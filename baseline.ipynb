{
 "cells": [
  {
   "cell_type": "code",
   "execution_count": 1,
   "id": "3e347b9e",
   "metadata": {},
   "outputs": [],
   "source": [
    "# import kagglehub\n",
    "\n",
    "# # Download latest version\n",
    "# path = kagglehub.dataset_download(\"azminetoushikwasi/supplygraph-supply-chain-planning-using-gnns\")\n",
    "\n",
    "# print(\"Path to dataset files:\", path)"
   ]
  },
  {
   "cell_type": "code",
   "execution_count": 2,
   "id": "3f850911",
   "metadata": {},
   "outputs": [],
   "source": [
    "import pandas as pd\n",
    "from pathlib import Path\n",
    "path = Path(\"./data\")\n",
    "\n",
    "# Nodes\n",
    "nodes = pd.read_csv(path / Path(\"Nodes/Nodes.csv\")) \n",
    "edges = pd.read_csv(path / Path(\"Edges/Edges (Product Sub-Group).csv\"))\n",
    "\n",
    "delivery_to_distributor = pd.read_csv(path / Path(\"Temporal Data/Unit/Delivery To distributor.csv\"))\n",
    "factory_issue = pd.read_csv(path / Path(\"Temporal Data/Unit/factory issue.csv\"))\n",
    "production = pd.read_csv(path / Path(\"Temporal Data/Unit/Production .csv\"))\n",
    "sales_order = pd.read_csv(path / Path(\"Temporal Data/Unit/Sales order.csv\"))\n",
    "\n"
   ]
  },
  {
   "cell_type": "code",
   "execution_count": null,
   "id": "55d2cc16",
   "metadata": {},
   "outputs": [
    {
     "name": "stdout",
     "output_type": "stream",
     "text": [
      "X shape: (220, 41)\n",
      "y shape: (220, 41)\n"
     ]
    }
   ],
   "source": [
    "import pandas as pd\n",
    "import numpy as np\n",
    "from torch_geometric_temporal.signal import StaticGraphTemporalSignal\n",
    "\n",
    "signals_path = path / Path(\"Temporal Data/Unit/\")\n",
    "\n",
    "production = pd.read_csv(signals_path / Path(\"Production .csv\"))\n",
    "factory_issue = pd.read_csv(signals_path / Path(\"factory issue.csv\"))\n",
    "delivery = pd.read_csv(signals_path / Path(\"Delivery To distributor.csv\"))\n",
    "sales_order = pd.read_csv(signals_path / Path(\"Sales order.csv\"))\n",
    "\n",
    "products = [col for col in production.columns if col != \"Date\"]\n",
    "product_to_id = {prod: i for i, prod in enumerate(products)}\n",
    "\n",
    "def transform_temporal(df, mapping):\n",
    "    df_no_date = df.drop(columns=[\"Date\"])\n",
    "    return df_no_date.rename(columns=mapping)\n",
    "\n",
    "X_prod = transform_temporal(production, product_to_id)\n",
    "X_issue = transform_temporal(factory_issue, product_to_id)\n",
    "X_delivery = transform_temporal(delivery, product_to_id)\n",
    "X_sales = transform_temporal(sales_order, product_to_id)  \n",
    "\n",
    "X_prod_np = X_prod.to_numpy()\n",
    "X_issue_np = X_issue.to_numpy()\n",
    "X_delivery_np = X_delivery.to_numpy()\n",
    "X_sales_np = X_sales.to_numpy()\n",
    "\n",
    "# shape: [T, N, F] = [time_steps, num_nodes, num_features]\n",
    "X = np.stack([X_prod_np, X_issue_np, X_delivery_np, X_sales_np], axis=-1)\n",
    "\n",
    "y = X_sales_np[1:]       \n",
    "X = X[:-1]\n",
    "\n",
    "print(\"X shape:\", X.shape)  # (T-1, N, 4)\n",
    "print(\"y shape:\", y.shape)  # (T-1, N)"
   ]
  },
  {
   "cell_type": "code",
   "execution_count": null,
   "id": "24a3ec15",
   "metadata": {},
   "outputs": [],
   "source": [
    "from sklearn.preprocessing import StandardScaler\n",
    "from sklearn.model_selection import TimeSeriesSplit\n",
    "from sklearn.linear_model import Ridge\n",
    "\n",
    "tscv = TimeSeriesSplit(n_splits=5)\n",
    "\n",
    "for train_idx, val_idx in tscv.split(X):\n",
    "    X_train, X_val = X[train_idx], X[val_idx]\n",
    "    y_train, y_val = y[train_idx], y[val_idx]\n",
    "\n",
    "    # Flatten for scaling\n",
    "    T, N, F = X_train.shape\n",
    "    X_flat = X_train.reshape(-1, F)  # shape [T*N, F]\n",
    "    y_flat = y_train.reshape(-1, 1)  # shape [T*N, 1]\n",
    "\n",
    "    x_scaler = StandardScaler()\n",
    "    X_train_scaled = x_scaler.fit_transform(X_train)\n",
    "    X_val_scaled = x_scaler.transform(X_val)\n",
    "\n",
    "    y_scaler = StandardScaler()\n",
    "    y_train_scaled = y_scaler.fit_transform(y_train)\n",
    "    y_val_scaled = y_scaler.transform(y_val)\n",
    "\n",
    "    # Train model\n",
    "    model = Ridge()\n",
    "    model.fit(X_train_scaled, y_train_scaled)\n",
    "\n",
    "    # Predict\n",
    "    y_pred_scaled = model.predict(X_val_scaled)\n",
    "    y_pred = y_scaler.inverse_transform(y_pred_scaled.reshape(-1, 1)).ravel()\n"
   ]
  },
  {
   "cell_type": "code",
   "execution_count": 4,
   "id": "13176b89",
   "metadata": {},
   "outputs": [],
   "source": [
    "train = int(0.8 * X.shape[0])\n",
    "\n",
    "X_train, X_test = X[:train], X[train:]\n",
    "y_train, y_test = y[:train], y[train:]"
   ]
  },
  {
   "cell_type": "code",
   "execution_count": 125,
   "id": "3ed04d3d",
   "metadata": {},
   "outputs": [
    {
     "name": "stdout",
     "output_type": "stream",
     "text": [
      "X_scaled range: -0.42 to 8.37\n",
      "y_scaled range: -0.35 to 11.07\n"
     ]
    }
   ],
   "source": [
    "from sklearn.preprocessing import StandardScaler\n",
    "\n",
    "# Flatten for scaling: combine time and nodes\n",
    "T, N, F = X_train.shape\n",
    "X_flat = X_train.reshape(-1, F)  # shape [T*N, F]\n",
    "y_flat = y_train.reshape(-1, 1)  # shape [T*N, 1]\n",
    "\n",
    "# Create scalers\n",
    "scaler_X = StandardScaler()\n",
    "scaler_y = StandardScaler()\n",
    "\n",
    "# Fit and transform\n",
    "X_train_scaled_flat = scaler_X.fit_transform(X_flat)\n",
    "y_train_scaled_flat = scaler_y.fit_transform(y_flat)\n",
    "\n",
    "# Reshape back to original shape\n",
    "X_train_scaled = X_train_scaled_flat.reshape(T, N, F)\n",
    "y_train_scaled = y_train_scaled_flat.reshape(T, N)\n",
    "\n",
    "print(f\"X_scaled range: {X_train_scaled.min():.2f} to {X_train_scaled.max():.2f}\")\n",
    "print(f\"y_scaled range: {y_train_scaled.min():.2f} to {y_train_scaled.max():.2f}\")\n"
   ]
  },
  {
   "cell_type": "code",
   "execution_count": 126,
   "id": "f51eb0e9",
   "metadata": {},
   "outputs": [],
   "source": [
    "y_test_flat = y_test.reshape(-1, 1)\n",
    "y_test_scaled_flat = scaler_y.transform(y_test_flat)\n",
    "y_test_scaled = y_test_scaled_flat.reshape(y_test.shape)\n",
    "\n",
    "X_test_flat = X_test.reshape(-1, F)\n",
    "X_test_scaled_flat = scaler_X.transform(X_test_flat)\n",
    "X_test_scaled = X_test_scaled_flat.reshape(X_test.shape)"
   ]
  },
  {
   "cell_type": "code",
   "execution_count": 127,
   "id": "1bfe32fb",
   "metadata": {},
   "outputs": [],
   "source": [
    "from sklearn.preprocessing import StandardScaler\n",
    "import numpy as np\n",
    "\n",
    "T, N, F = X_train.shape\n",
    "\n",
    "# Prepare scaled containers\n",
    "X_train_scaled = np.zeros_like(X_train)\n",
    "y_train_scaled = np.zeros_like(y_train)\n",
    "X_test_scaled = np.zeros_like(X_test)\n",
    "y_test_scaled = np.zeros_like(y_test)\n",
    "\n",
    "scaler_X_per_product = []\n",
    "scaler_y_per_product = []\n",
    "\n",
    "for node_idx in range(N):\n",
    "    # Fit a scaler for features of this product\n",
    "    scaler_X = StandardScaler()\n",
    "    scaler_y = StandardScaler()\n",
    "    \n",
    "    X_node = X_train[:, node_idx, :]  # (T, F)\n",
    "    y_node = y_train[:, node_idx].reshape(-1, 1)\n",
    "    \n",
    "    X_train_scaled[:, node_idx, :] = scaler_X.fit_transform(X_node)\n",
    "    y_train_scaled[:, node_idx] = scaler_y.fit_transform(y_node).ravel()\n",
    "    \n",
    "    # Scale test data using same scaler\n",
    "    X_test_scaled[:, node_idx, :] = scaler_X.transform(X_test[:, node_idx, :])\n",
    "    y_test_scaled[:, node_idx] = scaler_y.transform(y_test[:, node_idx].reshape(-1, 1)).ravel()\n",
    "    \n",
    "    scaler_X_per_product.append(scaler_X)\n",
    "    scaler_y_per_product.append(scaler_y)\n"
   ]
  },
  {
   "cell_type": "code",
   "execution_count": 128,
   "id": "f2671768",
   "metadata": {},
   "outputs": [],
   "source": [
    "edges = pd.read_csv(\"./supplygraph-supply-chain-planning-using-gnns/versions/2/Raw Dataset/Edges/Edges (Plant).csv\")\n",
    "\n",
    "edges['node1'] = edges['node1'].astype(str)\n",
    "edges['node2'] = edges['node2'].astype(str)\n",
    "\n",
    "edges['node1'] = edges['node1'].map(product_to_id)\n",
    "edges['node2'] = edges['node2'].map(product_to_id)\n",
    "\n",
    "edge_index = edges[['node1', 'node2']].to_numpy().T.astype(np.int64)\n",
    "\n",
    "num_nodes = len(product_to_id)\n",
    "\n",
    "train_dataset = StaticGraphTemporalSignal(\n",
    "    edge_index=edge_index,\n",
    "    edge_weight=np.ones(edge_index.shape[1]),\n",
    "    features=X_train_scaled,\n",
    "    targets=y_train_scaled\n",
    ")\n",
    "\n",
    "test_dataset = StaticGraphTemporalSignal(\n",
    "    edge_index=edge_index,\n",
    "    edge_weight=np.ones(edge_index.shape[1]),\n",
    "    features=X_test_scaled,\n",
    "    targets=y_test_scaled\n",
    ")\n"
   ]
  },
  {
   "cell_type": "code",
   "execution_count": 129,
   "id": "cd9be4c7",
   "metadata": {},
   "outputs": [],
   "source": [
    "# from torch_geometric_temporal.signal import temporal_signal_split\n",
    "\n",
    "# train_dataset, test_dataset = temporal_signal_split(dataset, train_ratio=0.7)"
   ]
  },
  {
   "cell_type": "code",
   "execution_count": 130,
   "id": "0397eefd",
   "metadata": {},
   "outputs": [],
   "source": [
    "import torch\n",
    "import torch.nn.functional as F\n",
    "from torch_geometric_temporal.nn.recurrent import GCLSTM\n",
    "\n",
    "class RecurrentGCN(torch.nn.Module):\n",
    "    def __init__(self, node_features):\n",
    "        super(RecurrentGCN, self).__init__()\n",
    "        self.recurrent = GCLSTM(node_features, 32, 1)\n",
    "        self.linear = torch.nn.Linear(32, 1)\n",
    "\n",
    "    def forward(self, x, edge_index, edge_weight):\n",
    "        h, c = self.recurrent(x, edge_index, edge_weight)  # Unpack (H, C)\n",
    "        h = F.relu(h)\n",
    "        h = self.linear(h)\n",
    "        return h.squeeze(-1)"
   ]
  },
  {
   "cell_type": "code",
   "execution_count": null,
   "id": "97c651b5",
   "metadata": {},
   "outputs": [],
   "source": [
    "model = RecurrentGCN(node_features=4)\n",
    "optimizer = torch.optim.Adam(model.parameters(), lr=0.01)"
   ]
  },
  {
   "cell_type": "code",
   "execution_count": 133,
   "id": "4047ebc6",
   "metadata": {},
   "outputs": [
    {
     "name": "stderr",
     "output_type": "stream",
     "text": [
      " 10%|█         | 10/100 [00:10<01:43,  1.15s/it]"
     ]
    },
    {
     "name": "stdout",
     "output_type": "stream",
     "text": [
      "\n",
      "Epoch 10/100\n",
      "Train MSE: 0.9739\n",
      "Test MSE: 2.4134\n"
     ]
    },
    {
     "name": "stderr",
     "output_type": "stream",
     "text": [
      " 20%|██        | 20/100 [00:21<01:33,  1.17s/it]"
     ]
    },
    {
     "name": "stdout",
     "output_type": "stream",
     "text": [
      "\n",
      "Epoch 20/100\n",
      "Train MSE: 0.9727\n",
      "Test MSE: 2.4125\n"
     ]
    },
    {
     "name": "stderr",
     "output_type": "stream",
     "text": [
      " 30%|███       | 30/100 [00:32<01:20,  1.15s/it]"
     ]
    },
    {
     "name": "stdout",
     "output_type": "stream",
     "text": [
      "\n",
      "Epoch 30/100\n",
      "Train MSE: 0.9714\n",
      "Test MSE: 2.4114\n"
     ]
    },
    {
     "name": "stderr",
     "output_type": "stream",
     "text": [
      " 40%|████      | 40/100 [00:41<01:08,  1.14s/it]"
     ]
    },
    {
     "name": "stdout",
     "output_type": "stream",
     "text": [
      "\n",
      "Epoch 40/100\n",
      "Train MSE: 0.9708\n",
      "Test MSE: 2.4112\n"
     ]
    },
    {
     "name": "stderr",
     "output_type": "stream",
     "text": [
      " 50%|█████     | 50/100 [00:54<01:02,  1.26s/it]"
     ]
    },
    {
     "name": "stdout",
     "output_type": "stream",
     "text": [
      "\n",
      "Epoch 50/100\n",
      "Train MSE: 0.9690\n",
      "Test MSE: 2.4119\n"
     ]
    },
    {
     "name": "stderr",
     "output_type": "stream",
     "text": [
      " 60%|██████    | 60/100 [01:05<00:49,  1.25s/it]"
     ]
    },
    {
     "name": "stdout",
     "output_type": "stream",
     "text": [
      "\n",
      "Epoch 60/100\n",
      "Train MSE: 0.9677\n",
      "Test MSE: 2.4120\n"
     ]
    },
    {
     "name": "stderr",
     "output_type": "stream",
     "text": [
      " 70%|███████   | 70/100 [01:15<00:36,  1.22s/it]"
     ]
    },
    {
     "name": "stdout",
     "output_type": "stream",
     "text": [
      "\n",
      "Epoch 70/100\n",
      "Train MSE: 0.9668\n",
      "Test MSE: 2.4114\n"
     ]
    },
    {
     "name": "stderr",
     "output_type": "stream",
     "text": [
      " 80%|████████  | 80/100 [01:25<00:23,  1.15s/it]"
     ]
    },
    {
     "name": "stdout",
     "output_type": "stream",
     "text": [
      "\n",
      "Epoch 80/100\n",
      "Train MSE: 0.9659\n",
      "Test MSE: 2.4127\n"
     ]
    },
    {
     "name": "stderr",
     "output_type": "stream",
     "text": [
      " 90%|█████████ | 90/100 [01:36<00:12,  1.21s/it]"
     ]
    },
    {
     "name": "stdout",
     "output_type": "stream",
     "text": [
      "\n",
      "Epoch 90/100\n",
      "Train MSE: 0.9652\n",
      "Test MSE: 2.4130\n"
     ]
    },
    {
     "name": "stderr",
     "output_type": "stream",
     "text": [
      "100%|██████████| 100/100 [01:48<00:00,  1.09s/it]"
     ]
    },
    {
     "name": "stdout",
     "output_type": "stream",
     "text": [
      "\n",
      "Epoch 100/100\n",
      "Train MSE: 0.9650\n",
      "Test MSE: 2.4128\n"
     ]
    },
    {
     "name": "stderr",
     "output_type": "stream",
     "text": [
      "\n"
     ]
    }
   ],
   "source": [
    "from tqdm import tqdm\n",
    "\n",
    "def calculate_mse(model, dataset):\n",
    "    \"\"\"Calculate MSE on a dataset\"\"\"\n",
    "    model.eval()\n",
    "    total_loss = 0\n",
    "    with torch.no_grad():\n",
    "        for time, snapshot in enumerate(dataset):\n",
    "            y_hat = model(snapshot.x, snapshot.edge_index, snapshot.edge_attr)\n",
    "            total_loss += torch.mean((y_hat - snapshot.y) ** 2).item()\n",
    "    model.train()\n",
    "    return total_loss / (time + 1)\n",
    "\n",
    "n_epoch = 100\n",
    "for epoch in tqdm(range(n_epoch)):\n",
    "    model.train()\n",
    "    total_loss = 0\n",
    "    for time, snapshot in enumerate(train_dataset):\n",
    "        optimizer.zero_grad()\n",
    "        y_hat = model(snapshot.x, snapshot.edge_index, snapshot.edge_attr)\n",
    "        loss = torch.mean((y_hat - snapshot.y) ** 2)\n",
    "        loss.backward()\n",
    "        optimizer.step()\n",
    "        total_loss += loss.item()\n",
    "    if (epoch + 1) % 10 == 0:\n",
    "        train_mse = calculate_mse(model, train_dataset)\n",
    "        test_mse = calculate_mse(model, test_dataset)\n",
    "        print(f\"\\nEpoch {epoch + 1}/{n_epoch}\")\n",
    "        print(f\"Train MSE: {train_mse:.4f}\")\n",
    "        print(f\"Test MSE: {test_mse:.4f}\")\n"
   ]
  },
  {
   "cell_type": "code",
   "execution_count": null,
   "id": "ebb543d4",
   "metadata": {},
   "outputs": [],
   "source": []
  }
 ],
 "metadata": {
  "kernelspec": {
   "display_name": "gml_project",
   "language": "python",
   "name": "python3"
  },
  "language_info": {
   "codemirror_mode": {
    "name": "ipython",
    "version": 3
   },
   "file_extension": ".py",
   "mimetype": "text/x-python",
   "name": "python",
   "nbconvert_exporter": "python",
   "pygments_lexer": "ipython3",
   "version": "3.12.12"
  }
 },
 "nbformat": 4,
 "nbformat_minor": 5
}
