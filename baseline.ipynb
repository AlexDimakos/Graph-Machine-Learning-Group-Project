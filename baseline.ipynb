{
 "cells": [
  {
   "cell_type": "code",
   "execution_count": null,
   "id": "3e347b9e",
   "metadata": {},
   "outputs": [
    {
     "name": "stderr",
     "output_type": "stream",
     "text": [
      "C:\\Users\\alexa\\AppData\\Local\\Packages\\PythonSoftwareFoundation.Python.3.11_qbz5n2kfra8p0\\LocalCache\\local-packages\\Python311\\site-packages\\tqdm\\auto.py:21: TqdmWarning: IProgress not found. Please update jupyter and ipywidgets. See https://ipywidgets.readthedocs.io/en/stable/user_install.html\n",
      "  from .autonotebook import tqdm as notebook_tqdm\n"
     ]
    },
    {
     "name": "stdout",
     "output_type": "stream",
     "text": [
      "Downloading from https://www.kaggle.com/api/v1/datasets/download/azminetoushikwasi/supplygraph-supply-chain-planning-using-gnns?dataset_version_number=2...\n"
     ]
    },
    {
     "name": "stderr",
     "output_type": "stream",
     "text": [
      "100%|██████████| 209k/209k [00:00<00:00, 769kB/s]"
     ]
    },
    {
     "name": "stdout",
     "output_type": "stream",
     "text": [
      "Extracting files...\n",
      "Path to dataset files: C:\\Users\\alexa\\.cache\\kagglehub\\datasets\\azminetoushikwasi\\supplygraph-supply-chain-planning-using-gnns\\versions\\2\n"
     ]
    },
    {
     "name": "stderr",
     "output_type": "stream",
     "text": [
      "\n"
     ]
    }
   ],
   "source": [
    "import kagglehub\n",
    "\n",
    "# Download latest version\n",
    "path = kagglehub.dataset_download(\"azminetoushikwasi/supplygraph-supply-chain-planning-using-gnns\")\n",
    "\n",
    "print(\"Path to dataset files:\", path)"
   ]
  },
  {
   "cell_type": "code",
   "execution_count": 1,
   "id": "3f850911",
   "metadata": {},
   "outputs": [],
   "source": [
    "import pandas as pd\n",
    "path = \"./supplygraph-supply-chain-planning-using-gnns/versions/2/Raw Dataset/\"\n",
    "\n",
    "# Nodes\n",
    "nodes = pd.read_csv(path + \"Nodes/Nodes.csv\")   \n",
    "edges = pd.read_csv(path + \"Edges/Edges (Plant).csv\")\n",
    "\n",
    "delivery_to_distributor = pd.read_csv(path + \"Temporal Data/Unit/Delivery To distributor.csv\")\n",
    "factory_issue = pd.read_csv(path + \"Temporal Data/Unit/factory issue.csv\")\n",
    "production = pd.read_csv(path + \"Temporal Data/Unit/Production .csv\")\n",
    "sales_order = pd.read_csv(path + \"Temporal Data/Unit/Sales order.csv\")\n",
    "\n"
   ]
  },
  {
   "cell_type": "code",
   "execution_count": 11,
   "id": "2479490e",
   "metadata": {},
   "outputs": [
    {
     "name": "stdout",
     "output_type": "stream",
     "text": [
      "Collecting torch_geometric_temporal\n",
      "  Using cached torch_geometric_temporal-0.56.2-py3-none-any.whl.metadata (1.9 kB)\n",
      "Requirement already satisfied: decorator==4.4.2 in c:\\users\\alexa\\appdata\\local\\packages\\pythonsoftwarefoundation.python.3.11_qbz5n2kfra8p0\\localcache\\local-packages\\python311\\site-packages (from torch_geometric_temporal) (4.4.2)\n",
      "Requirement already satisfied: torch in c:\\users\\alexa\\appdata\\local\\packages\\pythonsoftwarefoundation.python.3.11_qbz5n2kfra8p0\\localcache\\local-packages\\python311\\site-packages (from torch_geometric_temporal) (2.5.1+cu121)\n",
      "Requirement already satisfied: cython in c:\\users\\alexa\\appdata\\local\\packages\\pythonsoftwarefoundation.python.3.11_qbz5n2kfra8p0\\localcache\\local-packages\\python311\\site-packages (from torch_geometric_temporal) (3.1.4)\n",
      "Requirement already satisfied: torch-sparse in c:\\users\\alexa\\appdata\\local\\packages\\pythonsoftwarefoundation.python.3.11_qbz5n2kfra8p0\\localcache\\local-packages\\python311\\site-packages (from torch_geometric_temporal) (0.6.18+pt25cu121)\n",
      "Requirement already satisfied: torch-scatter in c:\\users\\alexa\\appdata\\local\\packages\\pythonsoftwarefoundation.python.3.11_qbz5n2kfra8p0\\localcache\\local-packages\\python311\\site-packages (from torch_geometric_temporal) (2.1.2+pt25cu121)\n",
      "Requirement already satisfied: torch-geometric in c:\\users\\alexa\\appdata\\local\\packages\\pythonsoftwarefoundation.python.3.11_qbz5n2kfra8p0\\localcache\\local-packages\\python311\\site-packages (from torch_geometric_temporal) (2.6.1)\n",
      "Requirement already satisfied: numpy in c:\\users\\alexa\\appdata\\local\\packages\\pythonsoftwarefoundation.python.3.11_qbz5n2kfra8p0\\localcache\\local-packages\\python311\\site-packages (from torch_geometric_temporal) (2.3.0)\n",
      "Requirement already satisfied: networkx in c:\\users\\alexa\\appdata\\local\\packages\\pythonsoftwarefoundation.python.3.11_qbz5n2kfra8p0\\localcache\\local-packages\\python311\\site-packages (from torch_geometric_temporal) (3.3)\n",
      "Requirement already satisfied: filelock in c:\\users\\alexa\\appdata\\local\\packages\\pythonsoftwarefoundation.python.3.11_qbz5n2kfra8p0\\localcache\\local-packages\\python311\\site-packages (from torch->torch_geometric_temporal) (3.13.1)\n",
      "Requirement already satisfied: typing-extensions>=4.8.0 in c:\\users\\alexa\\appdata\\local\\packages\\pythonsoftwarefoundation.python.3.11_qbz5n2kfra8p0\\localcache\\local-packages\\python311\\site-packages (from torch->torch_geometric_temporal) (4.14.0)\n",
      "Requirement already satisfied: jinja2 in c:\\users\\alexa\\appdata\\local\\packages\\pythonsoftwarefoundation.python.3.11_qbz5n2kfra8p0\\localcache\\local-packages\\python311\\site-packages (from torch->torch_geometric_temporal) (3.1.6)\n",
      "Requirement already satisfied: fsspec in c:\\users\\alexa\\appdata\\local\\packages\\pythonsoftwarefoundation.python.3.11_qbz5n2kfra8p0\\localcache\\local-packages\\python311\\site-packages (from torch->torch_geometric_temporal) (2025.9.0)\n",
      "Requirement already satisfied: sympy==1.13.1 in c:\\users\\alexa\\appdata\\local\\packages\\pythonsoftwarefoundation.python.3.11_qbz5n2kfra8p0\\localcache\\local-packages\\python311\\site-packages (from torch->torch_geometric_temporal) (1.13.1)\n",
      "Requirement already satisfied: mpmath<1.4,>=1.1.0 in c:\\users\\alexa\\appdata\\local\\packages\\pythonsoftwarefoundation.python.3.11_qbz5n2kfra8p0\\localcache\\local-packages\\python311\\site-packages (from sympy==1.13.1->torch->torch_geometric_temporal) (1.3.0)\n",
      "Requirement already satisfied: aiohttp in c:\\users\\alexa\\appdata\\local\\packages\\pythonsoftwarefoundation.python.3.11_qbz5n2kfra8p0\\localcache\\local-packages\\python311\\site-packages (from torch-geometric->torch_geometric_temporal) (3.12.15)\n",
      "Requirement already satisfied: psutil>=5.8.0 in c:\\users\\alexa\\appdata\\local\\packages\\pythonsoftwarefoundation.python.3.11_qbz5n2kfra8p0\\localcache\\local-packages\\python311\\site-packages (from torch-geometric->torch_geometric_temporal) (7.0.0)\n",
      "Requirement already satisfied: pyparsing in c:\\users\\alexa\\appdata\\local\\packages\\pythonsoftwarefoundation.python.3.11_qbz5n2kfra8p0\\localcache\\local-packages\\python311\\site-packages (from torch-geometric->torch_geometric_temporal) (3.2.5)\n",
      "Requirement already satisfied: requests in c:\\users\\alexa\\appdata\\local\\packages\\pythonsoftwarefoundation.python.3.11_qbz5n2kfra8p0\\localcache\\local-packages\\python311\\site-packages (from torch-geometric->torch_geometric_temporal) (2.32.5)\n",
      "Requirement already satisfied: tqdm in c:\\users\\alexa\\appdata\\local\\packages\\pythonsoftwarefoundation.python.3.11_qbz5n2kfra8p0\\localcache\\local-packages\\python311\\site-packages (from torch-geometric->torch_geometric_temporal) (4.67.1)\n",
      "Requirement already satisfied: scipy in c:\\users\\alexa\\appdata\\local\\packages\\pythonsoftwarefoundation.python.3.11_qbz5n2kfra8p0\\localcache\\local-packages\\python311\\site-packages (from torch-sparse->torch_geometric_temporal) (1.16.2)\n",
      "Requirement already satisfied: aiohappyeyeballs>=2.5.0 in c:\\users\\alexa\\appdata\\local\\packages\\pythonsoftwarefoundation.python.3.11_qbz5n2kfra8p0\\localcache\\local-packages\\python311\\site-packages (from aiohttp->torch-geometric->torch_geometric_temporal) (2.6.1)\n",
      "Requirement already satisfied: aiosignal>=1.4.0 in c:\\users\\alexa\\appdata\\local\\packages\\pythonsoftwarefoundation.python.3.11_qbz5n2kfra8p0\\localcache\\local-packages\\python311\\site-packages (from aiohttp->torch-geometric->torch_geometric_temporal) (1.4.0)\n",
      "Requirement already satisfied: attrs>=17.3.0 in c:\\users\\alexa\\appdata\\local\\packages\\pythonsoftwarefoundation.python.3.11_qbz5n2kfra8p0\\localcache\\local-packages\\python311\\site-packages (from aiohttp->torch-geometric->torch_geometric_temporal) (25.3.0)\n",
      "Requirement already satisfied: frozenlist>=1.1.1 in c:\\users\\alexa\\appdata\\local\\packages\\pythonsoftwarefoundation.python.3.11_qbz5n2kfra8p0\\localcache\\local-packages\\python311\\site-packages (from aiohttp->torch-geometric->torch_geometric_temporal) (1.7.0)\n",
      "Requirement already satisfied: multidict<7.0,>=4.5 in c:\\users\\alexa\\appdata\\local\\packages\\pythonsoftwarefoundation.python.3.11_qbz5n2kfra8p0\\localcache\\local-packages\\python311\\site-packages (from aiohttp->torch-geometric->torch_geometric_temporal) (6.6.4)\n",
      "Requirement already satisfied: propcache>=0.2.0 in c:\\users\\alexa\\appdata\\local\\packages\\pythonsoftwarefoundation.python.3.11_qbz5n2kfra8p0\\localcache\\local-packages\\python311\\site-packages (from aiohttp->torch-geometric->torch_geometric_temporal) (0.3.2)\n",
      "Requirement already satisfied: yarl<2.0,>=1.17.0 in c:\\users\\alexa\\appdata\\local\\packages\\pythonsoftwarefoundation.python.3.11_qbz5n2kfra8p0\\localcache\\local-packages\\python311\\site-packages (from aiohttp->torch-geometric->torch_geometric_temporal) (1.20.1)\n",
      "Requirement already satisfied: MarkupSafe>=2.0 in c:\\users\\alexa\\appdata\\local\\packages\\pythonsoftwarefoundation.python.3.11_qbz5n2kfra8p0\\localcache\\local-packages\\python311\\site-packages (from jinja2->torch->torch_geometric_temporal) (3.0.2)\n",
      "Requirement already satisfied: charset_normalizer<4,>=2 in c:\\users\\alexa\\appdata\\local\\packages\\pythonsoftwarefoundation.python.3.11_qbz5n2kfra8p0\\localcache\\local-packages\\python311\\site-packages (from requests->torch-geometric->torch_geometric_temporal) (3.4.3)\n",
      "Requirement already satisfied: idna<4,>=2.5 in c:\\users\\alexa\\appdata\\local\\packages\\pythonsoftwarefoundation.python.3.11_qbz5n2kfra8p0\\localcache\\local-packages\\python311\\site-packages (from requests->torch-geometric->torch_geometric_temporal) (3.10)\n",
      "Requirement already satisfied: urllib3<3,>=1.21.1 in c:\\users\\alexa\\appdata\\local\\packages\\pythonsoftwarefoundation.python.3.11_qbz5n2kfra8p0\\localcache\\local-packages\\python311\\site-packages (from requests->torch-geometric->torch_geometric_temporal) (2.5.0)\n",
      "Requirement already satisfied: certifi>=2017.4.17 in c:\\users\\alexa\\appdata\\local\\packages\\pythonsoftwarefoundation.python.3.11_qbz5n2kfra8p0\\localcache\\local-packages\\python311\\site-packages (from requests->torch-geometric->torch_geometric_temporal) (2025.8.3)\n",
      "Requirement already satisfied: colorama in c:\\users\\alexa\\appdata\\local\\packages\\pythonsoftwarefoundation.python.3.11_qbz5n2kfra8p0\\localcache\\local-packages\\python311\\site-packages (from tqdm->torch-geometric->torch_geometric_temporal) (0.4.6)\n",
      "Using cached torch_geometric_temporal-0.56.2-py3-none-any.whl (102 kB)\n",
      "Installing collected packages: torch_geometric_temporal\n",
      "Successfully installed torch_geometric_temporal-0.56.2\n",
      "Note: you may need to restart the kernel to use updated packages.\n"
     ]
    },
    {
     "name": "stderr",
     "output_type": "stream",
     "text": [
      "\n",
      "[notice] A new release of pip is available: 24.0 -> 25.2\n",
      "[notice] To update, run: C:\\Users\\alexa\\AppData\\Local\\Microsoft\\WindowsApps\\PythonSoftwareFoundation.Python.3.11_qbz5n2kfra8p0\\python.exe -m pip install --upgrade pip\n"
     ]
    }
   ],
   "source": [
    "%pip install torch_geometric_temporal"
   ]
  },
  {
   "cell_type": "code",
   "execution_count": 12,
   "id": "55d2cc16",
   "metadata": {},
   "outputs": [
    {
     "name": "stdout",
     "output_type": "stream",
     "text": [
      "X shape: (220, 41, 4)\n",
      "y shape: (220, 41)\n"
     ]
    }
   ],
   "source": [
    "import pandas as pd\n",
    "import numpy as np\n",
    "from torch_geometric_temporal.signal import StaticGraphTemporalSignal\n",
    "\n",
    "path = \"./supplygraph-supply-chain-planning-using-gnns/versions/2/Raw Dataset/Temporal Data/Unit/\"\n",
    "\n",
    "production = pd.read_csv(path + \"Production .csv\")\n",
    "factory_issue = pd.read_csv(path + \"factory issue.csv\")\n",
    "delivery = pd.read_csv(path + \"Delivery To distributor.csv\")\n",
    "sales_order = pd.read_csv(path + \"Sales order.csv\")\n",
    "\n",
    "products = [col for col in production.columns if col != \"Date\"]\n",
    "product_to_id = {prod: i for i, prod in enumerate(products)}\n",
    "\n",
    "def transform_temporal(df, mapping):\n",
    "    df_no_date = df.drop(columns=[\"Date\"])\n",
    "    return df_no_date.rename(columns=mapping)\n",
    "\n",
    "X_prod = transform_temporal(production, product_to_id)\n",
    "X_issue = transform_temporal(factory_issue, product_to_id)\n",
    "X_delivery = transform_temporal(delivery, product_to_id)\n",
    "X_sales = transform_temporal(sales_order, product_to_id)  \n",
    "\n",
    "X_prod_np = X_prod.to_numpy()\n",
    "X_issue_np = X_issue.to_numpy()\n",
    "X_delivery_np = X_delivery.to_numpy()\n",
    "X_sales_np = X_sales.to_numpy()\n",
    "\n",
    "# shape: [T, N, F] = [time_steps, num_nodes, num_features]\n",
    "X = np.stack([X_prod_np, X_issue_np, X_delivery_np, X_sales_np], axis=-1)\n",
    "\n",
    "y = X_sales_np[1:]       \n",
    "X = X[:-1]\n",
    "\n",
    "print(\"X shape:\", X.shape)  # (T-1, N, 4)\n",
    "print(\"y shape:\", y.shape)  # (T-1, N)\n"
   ]
  },
  {
   "cell_type": "code",
   "execution_count": 19,
   "id": "f2671768",
   "metadata": {},
   "outputs": [],
   "source": [
    "edges = pd.read_csv(\"./supplygraph-supply-chain-planning-using-gnns/versions/2/Raw Dataset/Edges/Edges (Plant).csv\")\n",
    "\n",
    "edges['node1'] = edges['node1'].astype(str)\n",
    "edges['node2'] = edges['node2'].astype(str)\n",
    "\n",
    "all_nodes = pd.concat([edges['node1'], edges['node2']]).unique()\n",
    "node_to_id = {node: i for i, node in enumerate(all_nodes)}\n",
    "\n",
    "edges['node1'] = edges['node1'].map(node_to_id)\n",
    "edges['node2'] = edges['node2'].map(node_to_id)\n",
    "\n",
    "edge_index = edges[['node1', 'node2']].to_numpy().T.astype(np.int64)\n",
    "\n",
    "dataset = StaticGraphTemporalSignal(\n",
    "    edge_index=edge_index,\n",
    "    edge_weight=None,\n",
    "    features=[X[t] for t in range(X.shape[0])],\n",
    "    targets=[y[t] for t in range(y.shape[0])]\n",
    ")\n"
   ]
  },
  {
   "cell_type": "code",
   "execution_count": 20,
   "id": "cd9be4c7",
   "metadata": {},
   "outputs": [],
   "source": [
    "from torch_geometric_temporal.signal import temporal_signal_split\n",
    "\n",
    "train_dataset, test_dataset = temporal_signal_split(dataset, train_ratio=0.8)"
   ]
  },
  {
   "cell_type": "code",
   "execution_count": 35,
   "id": "0397eefd",
   "metadata": {},
   "outputs": [],
   "source": [
    "import torch\n",
    "import torch.nn.functional as F\n",
    "from torch_geometric_temporal.nn.recurrent import GCLSTM\n",
    "\n",
    "class RecurrentGCN(torch.nn.Module):\n",
    "    def __init__(self, node_features):\n",
    "        super(RecurrentGCN, self).__init__()\n",
    "        self.recurrent = GCLSTM(node_features, 32, 1)\n",
    "        self.linear = torch.nn.Linear(32, 1)\n",
    "\n",
    "    def forward(self, x, edge_index, edge_weight):\n",
    "        h, c = self.recurrent(x, edge_index, edge_weight)  # Unpack (H, C)\n",
    "        h = F.relu(h)\n",
    "        h = self.linear(h)\n",
    "        return h"
   ]
  },
  {
   "cell_type": "code",
   "execution_count": 36,
   "id": "97c651b5",
   "metadata": {},
   "outputs": [],
   "source": [
    "model = RecurrentGCN(node_features=4)\n",
    "optimizer = torch.optim.Adam(model.parameters(), lr=0.01)"
   ]
  },
  {
   "cell_type": "code",
   "execution_count": 38,
   "id": "4047ebc6",
   "metadata": {},
   "outputs": [
    {
     "name": "stderr",
     "output_type": "stream",
     "text": [
      " 10%|█         | 10/100 [00:10<01:54,  1.27s/it]"
     ]
    },
    {
     "name": "stdout",
     "output_type": "stream",
     "text": [
      "\n",
      "Epoch 10/100\n",
      "Train MSE: 7356970.7431\n",
      "Test MSE: 3133420.2960\n"
     ]
    },
    {
     "name": "stderr",
     "output_type": "stream",
     "text": [
      " 20%|██        | 20/100 [00:20<01:34,  1.18s/it]"
     ]
    },
    {
     "name": "stdout",
     "output_type": "stream",
     "text": [
      "\n",
      "Epoch 20/100\n",
      "Train MSE: 7352574.6315\n",
      "Test MSE: 3130341.1052\n"
     ]
    },
    {
     "name": "stderr",
     "output_type": "stream",
     "text": [
      " 30%|███       | 30/100 [00:32<01:39,  1.42s/it]"
     ]
    },
    {
     "name": "stdout",
     "output_type": "stream",
     "text": [
      "\n",
      "Epoch 30/100\n",
      "Train MSE: 7347545.2086\n",
      "Test MSE: 3126785.3549\n"
     ]
    },
    {
     "name": "stderr",
     "output_type": "stream",
     "text": [
      " 40%|████      | 40/100 [00:44<01:35,  1.59s/it]"
     ]
    },
    {
     "name": "stdout",
     "output_type": "stream",
     "text": [
      "\n",
      "Epoch 40/100\n",
      "Train MSE: 7341825.6116\n",
      "Test MSE: 3122798.8718\n"
     ]
    },
    {
     "name": "stderr",
     "output_type": "stream",
     "text": [
      " 50%|█████     | 50/100 [00:55<01:17,  1.54s/it]"
     ]
    },
    {
     "name": "stdout",
     "output_type": "stream",
     "text": [
      "\n",
      "Epoch 50/100\n",
      "Train MSE: 7336372.3478\n",
      "Test MSE: 3118983.9133\n"
     ]
    },
    {
     "name": "stderr",
     "output_type": "stream",
     "text": [
      " 60%|██████    | 60/100 [01:13<01:15,  1.89s/it]"
     ]
    },
    {
     "name": "stdout",
     "output_type": "stream",
     "text": [
      "\n",
      "Epoch 60/100\n",
      "Train MSE: 7330964.2875\n",
      "Test MSE: 3115197.1603\n"
     ]
    },
    {
     "name": "stderr",
     "output_type": "stream",
     "text": [
      " 70%|███████   | 70/100 [01:25<00:38,  1.29s/it]"
     ]
    },
    {
     "name": "stdout",
     "output_type": "stream",
     "text": [
      "\n",
      "Epoch 70/100\n",
      "Train MSE: 7325855.8652\n",
      "Test MSE: 3111629.5456\n"
     ]
    },
    {
     "name": "stderr",
     "output_type": "stream",
     "text": [
      " 80%|████████  | 80/100 [01:34<00:20,  1.02s/it]"
     ]
    },
    {
     "name": "stdout",
     "output_type": "stream",
     "text": [
      "\n",
      "Epoch 80/100\n",
      "Train MSE: 7320623.3123\n",
      "Test MSE: 3107978.8553\n"
     ]
    },
    {
     "name": "stderr",
     "output_type": "stream",
     "text": [
      " 90%|█████████ | 90/100 [01:44<00:10,  1.06s/it]"
     ]
    },
    {
     "name": "stdout",
     "output_type": "stream",
     "text": [
      "\n",
      "Epoch 90/100\n",
      "Train MSE: 7315591.4153\n",
      "Test MSE: 3104474.4974\n"
     ]
    },
    {
     "name": "stderr",
     "output_type": "stream",
     "text": [
      "100%|██████████| 100/100 [01:53<00:00,  1.13s/it]"
     ]
    },
    {
     "name": "stdout",
     "output_type": "stream",
     "text": [
      "\n",
      "Epoch 100/100\n",
      "Train MSE: 7310729.6606\n",
      "Test MSE: 3101093.6368\n"
     ]
    },
    {
     "name": "stderr",
     "output_type": "stream",
     "text": [
      "\n"
     ]
    }
   ],
   "source": [
    "from tqdm import tqdm\n",
    "\n",
    "def calculate_mse(model, dataset):\n",
    "    \"\"\"Calculate MSE on a dataset\"\"\"\n",
    "    model.eval()\n",
    "    total_loss = 0\n",
    "    with torch.no_grad():\n",
    "        for time, snapshot in enumerate(dataset):\n",
    "            y_hat = model(snapshot.x, snapshot.edge_index, snapshot.edge_attr)\n",
    "            total_loss += torch.mean((y_hat - snapshot.y) ** 2).item()\n",
    "    model.train()\n",
    "    return total_loss / (time + 1)\n",
    "\n",
    "n_epoch = 100  # Number of epochs\n",
    "for epoch in tqdm(range(n_epoch)):\n",
    "    model.train()\n",
    "    cost = 0\n",
    "    for time, snapshot in enumerate(train_dataset):\n",
    "        y_hat = model(snapshot.x, snapshot.edge_index, snapshot.edge_attr)  # Model prediction\n",
    "        cost += torch.mean((y_hat - snapshot.y) ** 2)                       # MSE loss\n",
    "    cost = cost / (time + 1)                                                # Average cost\n",
    "    cost.backward()                                                         # Backpropagation\n",
    "    optimizer.step()                                                        # Update weights\n",
    "    optimizer.zero_grad()                                                   # Reset gradients\n",
    "    \n",
    "    # Print metrics every 10 epochs\n",
    "    if (epoch + 1) % 10 == 0:\n",
    "        train_mse = calculate_mse(model, train_dataset)\n",
    "        test_mse = calculate_mse(model, test_dataset)\n",
    "        print(f\"\\nEpoch {epoch + 1}/{n_epoch}\")\n",
    "        print(f\"Train MSE: {train_mse:.4f}\")\n",
    "        print(f\"Test MSE: {test_mse:.4f}\")"
   ]
  },
  {
   "cell_type": "code",
   "execution_count": null,
   "id": "80fbe4b6",
   "metadata": {},
   "outputs": [],
   "source": []
  }
 ],
 "metadata": {
  "kernelspec": {
   "display_name": "Python 3",
   "language": "python",
   "name": "python3"
  },
  "language_info": {
   "codemirror_mode": {
    "name": "ipython",
    "version": 3
   },
   "file_extension": ".py",
   "mimetype": "text/x-python",
   "name": "python",
   "nbconvert_exporter": "python",
   "pygments_lexer": "ipython3",
   "version": "3.11.9"
  }
 },
 "nbformat": 4,
 "nbformat_minor": 5
}
